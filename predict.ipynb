{
 "cells": [
  {
   "cell_type": "code",
   "execution_count": 1,
   "id": "8c9d13dd",
   "metadata": {},
   "outputs": [],
   "source": [
    "import matplotlib.pyplot as plt\n",
    "import numpy as np\n",
    "import os\n",
    "import PIL\n",
    "import tensorflow as tf\n",
    "\n",
    "from tensorflow import keras\n",
    "from tensorflow.keras import layers\n",
    "from tensorflow.keras.models import Sequential\n",
    "from tensorflow.keras.optimizers import SGD, Adam, RMSprop\n",
    "from tensorflow.keras.callbacks import EarlyStopping, ModelCheckpoint\n",
    "\n",
    "from utils import crop_image, circle_crop, temp_augmentate\n",
    "import cv2\n",
    "import matplotlib.pyplot as plt\n",
    "import shutil"
   ]
  },
  {
   "cell_type": "code",
   "execution_count": 2,
   "id": "163e7cc9",
   "metadata": {},
   "outputs": [
    {
     "data": {
      "text/plain": [
       "('./images/3/21177_left.jpeg', '3')"
      ]
     },
     "execution_count": 2,
     "metadata": {},
     "output_type": "execute_result"
    }
   ],
   "source": [
    "def selectRandomImage():\n",
    "    import random # Rastgelelik için random kütüphanesini kullanıyoruz\n",
    "    mylist = list() # Fotoğrafları eklemek için bir liste oluşturuyoruz\n",
    "    for r, _, f in os.walk(\".\\\\images\"): # ./animals/animals klasörü altındaki tüm dosyaları geziyoruz\n",
    "        if len(f) > 0: # Bulunduğumuz klasördeki  dosya sayısı 0 dan büyükse işlem yapıyoruz\n",
    "            file = random.choice(f) # Klasör içinden (örneğin kedi klasörü) bir fotoğraf seçiyoruz.\n",
    "            # Daha sonra bu fotoğrafı ve fotoğraftaki hayvanın adını listemize ekliyoruz.\n",
    "            mylist.append((f\"{r}\\\\{file}\".replace(\"\\\\\", \"/\"), f\"{r}\\\\{file}\".replace(\"\\\\\", \"/\").split(\"/\")[-2]))\n",
    "    return random.choice(mylist) # Listeden rastgele bir eleman döndürüyoruz.\n",
    "selectRandomImage()"
   ]
  },
  {
   "cell_type": "code",
   "execution_count": 11,
   "id": "c654e16a",
   "metadata": {},
   "outputs": [],
   "source": [
    "def preprocess(imgPath : str = None, imgClass = None):\n",
    "    if imgPath == None:\n",
    "        imgObj = selectRandomImage()\n",
    "    else:\n",
    "        imgObj = (imgPath, imgClass)\n",
    "    #print(imgObj[1])\n",
    "    img = cv2.imread(imgObj[0])\n",
    "    img_cropped, flag = crop_image(img)\n",
    "    height, width, _= img_cropped.shape\n",
    "    ratio = height/width\n",
    "    new_sz = 1024\n",
    "    if width > new_sz:\n",
    "        new_image = cv2.resize(img_cropped,(new_sz,math.ceil(new_sz*ratio)))  \n",
    "    else:\n",
    "        new_image = img_cropped\n",
    "\n",
    "    circle_cropped = circle_crop(new_image, 30)\n",
    "    if imgPath == None:\n",
    "        return (circle_cropped, imgObj[1])\n",
    "    else:\n",
    "        return (circle_cropped, imgClass)\n",
    "\n",
    "# preprocessed_img = preprocess()\n",
    "# plt.imshow(preprocessed_img)\n",
    "# _ = cv2.imwrite(\"./deneme.jpeg\", preprocessed_img)"
   ]
  },
  {
   "cell_type": "code",
   "execution_count": 4,
   "id": "9b1e23b6",
   "metadata": {},
   "outputs": [],
   "source": [
    "model = keras.models.load_model(\"0867acc.mdl_wts.hdf5\")"
   ]
  },
  {
   "cell_type": "code",
   "execution_count": 5,
   "id": "5491ad9c",
   "metadata": {},
   "outputs": [],
   "source": [
    "def predictRandom():\n",
    "    ## Bir fotoğrafı çoğaltıp tahmin ettir.\n",
    "    \n",
    "    class_names = [\"0\", \"1\", \"2\", \"3\", \"4\"]\n",
    "    img_array, cls = preprocess()\n",
    "    img_array = tf.expand_dims(img_array, 0) # Veri listesindeki verileri paket halinde hazırlıyoruz.\n",
    "\n",
    "    predictions = model.predict(img_array) # Bu paketi modelimize veriyoruz ve tahminini yapıyor.\n",
    "    score = tf.nn.softmax(predictions[0]) # Tahmin sonucunu alıyoruz. Softmax aldığımız değerlerin 0 ile 1 aralığında olmasını sağlıyor\n",
    "\n",
    "\n",
    "    # Modelin tahminini doğruluk payı ile beraber ekrana bastırıyoruz.\n",
    "    #print(\n",
    "    #    \"This image most likely belongs to {} with a %{:.2f} confidence.\"\n",
    "    #    .format(class_names[np.argmax(score)], 100 * np.max(score))\n",
    "    #)\n",
    "    return cls == class_names[np.argmax(score)]\n",
    "#predictRandom()"
   ]
  },
  {
   "cell_type": "code",
   "execution_count": 6,
   "id": "db8b133e",
   "metadata": {},
   "outputs": [],
   "source": [
    "def predictMultipleRandom(count):\n",
    "    t_count = 0\n",
    "    f_count = 0\n",
    "    for i in range(count):\n",
    "        if predictRandom():\n",
    "            t_count += 1\n",
    "        else:\n",
    "            f_count += 1\n",
    "\n",
    "    print(t_count, f_count, \"%\"+str((t_count / (t_count + f_count)) * 100))"
   ]
  },
  {
   "cell_type": "code",
   "execution_count": 8,
   "id": "e4647686",
   "metadata": {},
   "outputs": [
    {
     "name": "stdout",
     "output_type": "stream",
     "text": [
      "63 37 %63.0\n"
     ]
    }
   ],
   "source": [
    "predictMultipleRandom(100)"
   ]
  },
  {
   "cell_type": "code",
   "execution_count": 9,
   "id": "1f6af821",
   "metadata": {},
   "outputs": [],
   "source": [
    "def predict(imgPath):\n",
    "    ## Bir fotoğrafı çoğaltıp tahmin ettir.\n",
    "    \n",
    "    class_names = [\"0\", \"1\", \"2\", \"3\", \"4\"]\n",
    "    img_array, cls = preprocess(imgPath, 5)\n",
    "    img_array = tf.expand_dims(img_array, 0) # Veri listesindeki verileri paket halinde hazırlıyoruz.\n",
    "\n",
    "    predictions = model.predict(img_array) # Bu paketi modelimize veriyoruz ve tahminini yapıyor.\n",
    "    score = tf.nn.softmax(predictions[0]) # Tahmin sonucunu alıyoruz. Softmax aldığımız değerlerin 0 ile 1 aralığında olmasını sağlıyor\n",
    "\n",
    "\n",
    "    # Modelin tahminini doğruluk payı ile beraber ekrana bastırıyoruz.\n",
    "    #print(\n",
    "    #    \"This image most likely belongs to {} with a %{:.2f} confidence.\"\n",
    "    #    .format(class_names[np.argmax(score)], 100 * np.max(score))\n",
    "    #)\n",
    "    return class_names[np.argmax(score)]"
   ]
  }
 ],
 "metadata": {
  "kernelspec": {
   "display_name": "Python 3.9",
   "language": "python",
   "name": "python3"
  },
  "language_info": {
   "codemirror_mode": {
    "name": "ipython",
    "version": 3
   },
   "file_extension": ".py",
   "mimetype": "text/x-python",
   "name": "python",
   "nbconvert_exporter": "python",
   "pygments_lexer": "ipython3",
   "version": "3.9.1"
  }
 },
 "nbformat": 4,
 "nbformat_minor": 5
}
