{
 "cells": [
  {
   "cell_type": "code",
   "execution_count": 1,
   "id": "ea033de3",
   "metadata": {},
   "outputs": [],
   "source": [
    "import matplotlib.pyplot as plt\n",
    "import numpy as np\n",
    "import os\n",
    "import PIL\n",
    "import tensorflow as tf\n",
    "\n",
    "from tensorflow import keras\n",
    "from tensorflow.keras import layers\n",
    "from tensorflow.keras.models import Sequential\n",
    "from tensorflow.keras.optimizers import SGD, Adam, RMSprop\n",
    "from tensorflow.keras.callbacks import EarlyStopping, ModelCheckpoint\n",
    "\n",
    "from utils import crop_image, circle_crop, temp_augmentate\n",
    "import cv2\n",
    "import matplotlib.pyplot as plt\n",
    "import shutil"
   ]
  },
  {
   "cell_type": "code",
   "execution_count": 2,
   "id": "32c891db",
   "metadata": {},
   "outputs": [
    {
     "data": {
      "text/plain": [
       "('./images/4/43839_right.jpeg', '4')"
      ]
     },
     "execution_count": 2,
     "metadata": {},
     "output_type": "execute_result"
    }
   ],
   "source": [
    "def selectRandomImage():\n",
    "    import random # Rastgelelik için random kütüphanesini kullanıyoruz\n",
    "    mylist = list() # Fotoğrafları eklemek için bir liste oluşturuyoruz\n",
    "    for r, _, f in os.walk(\".\\\\images\"): # ./animals/animals klasörü altındaki tüm dosyaları geziyoruz\n",
    "        if len(f) > 0: # Bulunduğumuz klasördeki  dosya sayısı 0 dan büyükse işlem yapıyoruz\n",
    "            file = random.choice(f) # Klasör içinden (örneğin kedi klasörü) bir fotoğraf seçiyoruz.\n",
    "            # Daha sonra bu fotoğrafı ve fotoğraftaki hayvanın adını listemize ekliyoruz.\n",
    "            mylist.append((f\"{r}\\\\{file}\".replace(\"\\\\\", \"/\"), f\"{r}\\\\{file}\".replace(\"\\\\\", \"/\").split(\"/\")[-2]))\n",
    "    return random.choice(mylist) # Listeden rastgele bir eleman döndürüyoruz.\n",
    "selectRandomImage()"
   ]
  },
  {
   "cell_type": "code",
   "execution_count": 3,
   "id": "af17d09d",
   "metadata": {},
   "outputs": [],
   "source": [
    "def preprocess(imgPath : str = None, imgClass = None):\n",
    "    if imgPath == None:\n",
    "        imgObj = selectRandomImage()\n",
    "    else:\n",
    "        imgObj = (imgPath, imgClass)\n",
    "    #print(imgObj[1])\n",
    "    img = cv2.imread(imgObj[0])\n",
    "    img_cropped, flag = crop_image(img)\n",
    "    height, width, _= img_cropped.shape\n",
    "    ratio = height/width\n",
    "    new_sz = 1024\n",
    "    if width > new_sz:\n",
    "        new_image = cv2.resize(img_cropped,(new_sz,math.ceil(new_sz*ratio)))  \n",
    "    else:\n",
    "        new_image = img_cropped\n",
    "\n",
    "    circle_cropped = circle_crop(new_image, 30)\n",
    "    if imgPath == None:\n",
    "        return (circle_cropped, imgObj[1])\n",
    "    else:\n",
    "        return circle_cropped\n",
    "\n",
    "# preprocessed_img = preprocess()\n",
    "# plt.imshow(preprocessed_img)\n",
    "# _ = cv2.imwrite(\"./deneme.jpeg\", preprocessed_img)"
   ]
  },
  {
   "cell_type": "code",
   "execution_count": 4,
   "id": "0589bab2",
   "metadata": {},
   "outputs": [],
   "source": [
    "def augmentate():\n",
    "    imgObject = selectRandomImage()\n",
    "    shutil.copy(imgObject[0], \"./temp/img.jpeg\")\n",
    "    temp_augmentate()\n",
    "    objs = []\n",
    "    for fileName in os.listdir(\"./temp/output\"):\n",
    "        objs.append(preprocess(\"./temp/output/\" + str(fileName), imgObject[1]))\n",
    "    return (objs, imgObject[1])\n",
    "        \n",
    "#augmentateObj = augmentate()"
   ]
  },
  {
   "cell_type": "code",
   "execution_count": 5,
   "id": "a2b43e94",
   "metadata": {},
   "outputs": [],
   "source": [
    "model = keras.models.load_model(\"079acc.mdl_wts.hdf5\")"
   ]
  },
  {
   "cell_type": "code",
   "execution_count": 6,
   "id": "c417b884",
   "metadata": {},
   "outputs": [],
   "source": [
    "def predictAugmented(augmentateObj):\n",
    "    ## Bir fotoğrafı çoğaltıp tahmin ettir.\n",
    "    \n",
    "    class_names = [\"0\", \"1\", \"2\", \"3\", \"4\"]\n",
    "    predictions_dict = {\"0\" : 0, \"1\" : 0, \"2\" : 0, \"3\" : 0, \"4\" : 0}\n",
    "    for i in augmentateObj[0]:\n",
    "        img_array, cls = i, augmentateObj[1]\n",
    "        img_array = tf.expand_dims(img_array, 0) # Veri listesindeki verileri paket halinde hazırlıyoruz.\n",
    "\n",
    "        predictions = model.predict(img_array) # Bu paketi modelimize veriyoruz ve tahminini yapıyor.\n",
    "        score = tf.nn.softmax(predictions[0]) # Tahmin sonucunu alıyoruz. Softmax aldığımız değerlerin 0 ile 1 aralığında olmasını sağlıyor\n",
    "        predictions_dict[class_names[np.argmax(score)]] += 1\n",
    "\n",
    "    print(predictions_dict)\n",
    "    print(str(augmentateObj[1]))\n",
    "    print(str(max(predictions_dict, key=predictions_dict.get)))\n",
    "    return str(max(predictions_dict, key=predictions_dict.get)) == str(augmentateObj[1])\n",
    "#predictAugmented(augmentateObj)"
   ]
  },
  {
   "cell_type": "code",
   "execution_count": 7,
   "id": "5c3157cd",
   "metadata": {},
   "outputs": [],
   "source": [
    "def predictRandom():\n",
    "    ## Bir fotoğrafı çoğaltıp tahmin ettir.\n",
    "    \n",
    "    class_names = [\"0\", \"1\", \"2\", \"3\", \"4\"]\n",
    "    img_array, cls = preprocess()\n",
    "    img_array = tf.expand_dims(img_array, 0) # Veri listesindeki verileri paket halinde hazırlıyoruz.\n",
    "\n",
    "    predictions = model.predict(img_array) # Bu paketi modelimize veriyoruz ve tahminini yapıyor.\n",
    "    score = tf.nn.softmax(predictions[0]) # Tahmin sonucunu alıyoruz. Softmax aldığımız değerlerin 0 ile 1 aralığında olmasını sağlıyor\n",
    "\n",
    "\n",
    "    # Modelin tahminini doğruluk payı ile beraber ekrana bastırıyoruz.\n",
    "    #print(\n",
    "    #    \"This image most likely belongs to {} with a %{:.2f} confidence.\"\n",
    "    #    .format(class_names[np.argmax(score)], 100 * np.max(score))\n",
    "    #)\n",
    "    return cls == class_names[np.argmax(score)]\n",
    "#predictRandom()"
   ]
  },
  {
   "cell_type": "code",
   "execution_count": 8,
   "id": "297e5a28",
   "metadata": {},
   "outputs": [],
   "source": [
    "def clearOutput():\n",
    "    for f in os.listdir(\"./temp/output\"):\n",
    "        if not f.endswith(\".jpeg\"):\n",
    "            continue\n",
    "        os.remove(os.path.join(\"./temp/output\", f))"
   ]
  },
  {
   "cell_type": "code",
   "execution_count": 9,
   "id": "235e7a3b",
   "metadata": {},
   "outputs": [],
   "source": [
    "def predictMultiple():\n",
    "    t_count = 0\n",
    "    f_count = 0\n",
    "    for i in range(10):\n",
    "        augmentateObj = augmentate()\n",
    "        if predictAugmented(augmentateObj):\n",
    "            print(True)\n",
    "            t_count += 1\n",
    "        else:\n",
    "            print(False)\n",
    "            f_count += 1\n",
    "        clearOutput()\n",
    "\n",
    "    print(t_count, f_count, \"%\"+str((t_count / (t_count + f_count)) * 100))"
   ]
  },
  {
   "cell_type": "code",
   "execution_count": 10,
   "id": "289ae641",
   "metadata": {},
   "outputs": [],
   "source": [
    "def predictMultipleRandom():\n",
    "    t_count = 0\n",
    "    f_count = 0\n",
    "    for i in range(1000):\n",
    "        if predictRandom():\n",
    "            t_count += 1\n",
    "        else:\n",
    "            f_count += 1\n",
    "\n",
    "    print(t_count, f_count, \"%\"+str((t_count / (t_count + f_count)) * 100))"
   ]
  },
  {
   "cell_type": "code",
   "execution_count": 11,
   "id": "9bceab5d",
   "metadata": {},
   "outputs": [
    {
     "name": "stderr",
     "output_type": "stream",
     "text": [
      "Processing <PIL.Image.Image image mode=RGB size=1024x683 at 0x23E3086C040>: 100%|█| 1/1 [00:00<00:00, 111.10 Samples/s]\n",
      "Executing Pipeline:   0%|                                                                  | 0/9 [00:00<?, ? Samples/s]"
     ]
    },
    {
     "name": "stdout",
     "output_type": "stream",
     "text": [
      "Initialised with 1 image(s) found.\n",
      "Output directory set to ./temp\\output."
     ]
    },
    {
     "name": "stderr",
     "output_type": "stream",
     "text": [
      "Processing <PIL.Image.Image image mode=RGB size=1024x683 at 0x23E095DBCD0>: 100%|██| 9/9 [00:00<00:00, 40.54 Samples/s]\n",
      "Processing <PIL.JpegImagePlugin.JpegImageFile image mode=RGB size=1024x768 at 0x23E1C987520>: 100%|█| 1/1 [00:00<00:00,\n",
      "Executing Pipeline:   0%|                                                                  | 0/9 [00:00<?, ? Samples/s]"
     ]
    },
    {
     "name": "stdout",
     "output_type": "stream",
     "text": [
      "{'0': 9, '1': 0, '2': 0, '3': 3, '4': 8}\n",
      "0\n",
      "0\n",
      "True\n",
      "Initialised with 1 image(s) found.\n",
      "Output directory set to ./temp\\output."
     ]
    },
    {
     "name": "stderr",
     "output_type": "stream",
     "text": [
      "Processing <PIL.Image.Image image mode=RGB size=1024x768 at 0x23E0FCC11F0>: 100%|██| 9/9 [00:00<00:00, 37.04 Samples/s]\n",
      "Processing <PIL.Image.Image image mode=RGB size=1024x768 at 0x23E4CF706A0>: 100%|█| 1/1 [00:00<00:00, 111.09 Samples/s]\n",
      "Executing Pipeline:   0%|                                                                  | 0/9 [00:00<?, ? Samples/s]"
     ]
    },
    {
     "name": "stdout",
     "output_type": "stream",
     "text": [
      "{'0': 0, '1': 0, '2': 0, '3': 10, '4': 0}\n",
      "3\n",
      "3\n",
      "True\n",
      "Initialised with 1 image(s) found.\n",
      "Output directory set to ./temp\\output."
     ]
    },
    {
     "name": "stderr",
     "output_type": "stream",
     "text": [
      "Processing <PIL.Image.Image image mode=RGB size=1024x768 at 0x23E4CF95BE0>: 100%|██| 9/9 [00:00<00:00, 40.00 Samples/s]\n",
      "Processing <PIL.Image.Image image mode=RGB size=1024x683 at 0x23E3586ADC0>: 100%|██| 1/1 [00:00<00:00, 13.51 Samples/s]\n",
      "Processing <PIL.JpegImagePlugin.JpegImageFile image mode=RGB size=1024x683 at 0x23E3586AD00>:   0%| | 0/9 [00:00<?, ? S"
     ]
    },
    {
     "name": "stdout",
     "output_type": "stream",
     "text": [
      "{'0': 0, '1': 0, '2': 0, '3': 6, '4': 4}\n",
      "0\n",
      "3\n",
      "False\n",
      "Initialised with 1 image(s) found.\n",
      "Output directory set to ./temp\\output."
     ]
    },
    {
     "name": "stderr",
     "output_type": "stream",
     "text": [
      "Processing <PIL.Image.Image image mode=RGB size=1024x683 at 0x23E0FCC1E20>: 100%|██| 9/9 [00:00<00:00, 38.14 Samples/s]\n",
      "Processing <PIL.Image.Image image mode=RGB size=1024x683 at 0x23E232E38B0>: 100%|██| 1/1 [00:00<00:00, 14.50 Samples/s]\n",
      "Executing Pipeline:   0%|                                                                  | 0/9 [00:00<?, ? Samples/s]"
     ]
    },
    {
     "name": "stdout",
     "output_type": "stream",
     "text": [
      "{'0': 0, '1': 0, '2': 0, '3': 0, '4': 10}\n",
      "2\n",
      "4\n",
      "False\n",
      "Initialised with 1 image(s) found.\n",
      "Output directory set to ./temp\\output."
     ]
    },
    {
     "name": "stderr",
     "output_type": "stream",
     "text": [
      "Processing <PIL.Image.Image image mode=RGB size=1024x683 at 0x23E2174F070>: 100%|██| 9/9 [00:00<00:00, 33.09 Samples/s]\n",
      "Processing <PIL.Image.Image image mode=RGB size=1024x683 at 0x23FFB95DDF0>: 100%|██| 1/1 [00:00<00:00, 12.35 Samples/s]\n",
      "Processing <PIL.JpegImagePlugin.JpegImageFile image mode=RGB size=1024x683 at 0x23FFB95DF70>:   0%| | 0/9 [00:00<?, ? S"
     ]
    },
    {
     "name": "stdout",
     "output_type": "stream",
     "text": [
      "{'0': 0, '1': 1, '2': 0, '3': 5, '4': 4}\n",
      "0\n",
      "3\n",
      "False\n",
      "Initialised with 1 image(s) found.\n",
      "Output directory set to ./temp\\output."
     ]
    },
    {
     "name": "stderr",
     "output_type": "stream",
     "text": [
      "Processing <PIL.Image.Image image mode=RGB size=1024x683 at 0x23FFB94CE20>: 100%|██| 9/9 [00:00<00:00, 39.31 Samples/s]\n",
      "Processing <PIL.Image.Image image mode=RGB size=1024x684 at 0x23E35860B50>: 100%|██| 1/1 [00:00<00:00, 13.16 Samples/s]\n",
      "Processing <PIL.Image.Image image mode=RGB size=1024x684 at 0x23FFB9180D0>:  33%|▋ | 3/9 [00:00<00:00, 96.76 Samples/s]"
     ]
    },
    {
     "name": "stdout",
     "output_type": "stream",
     "text": [
      "{'0': 9, '1': 1, '2': 0, '3': 0, '4': 0}\n",
      "1\n",
      "0\n",
      "False\n",
      "Initialised with 1 image(s) found.\n",
      "Output directory set to ./temp\\output."
     ]
    },
    {
     "name": "stderr",
     "output_type": "stream",
     "text": [
      "Processing <PIL.Image.Image image mode=RGB size=1024x684 at 0x23FFB918460>: 100%|██| 9/9 [00:00<00:00, 45.45 Samples/s]\n",
      "Processing <PIL.Image.Image image mode=RGB size=1024x683 at 0x23E3606C370>: 100%|██| 1/1 [00:00<00:00, 13.51 Samples/s]\n",
      "Executing Pipeline:   0%|                                                                  | 0/9 [00:00<?, ? Samples/s]"
     ]
    },
    {
     "name": "stdout",
     "output_type": "stream",
     "text": [
      "{'0': 0, '1': 1, '2': 0, '3': 0, '4': 9}\n",
      "4\n",
      "4\n",
      "True\n",
      "Initialised with 1 image(s) found.\n",
      "Output directory set to ./temp\\output."
     ]
    },
    {
     "name": "stderr",
     "output_type": "stream",
     "text": [
      "Processing <PIL.Image.Image image mode=RGB size=1024x683 at 0x23E3606C790>: 100%|██| 9/9 [00:00<00:00, 42.86 Samples/s]\n",
      "Processing <PIL.Image.Image image mode=RGB size=1024x683 at 0x23E2174F430>: 100%|██| 1/1 [00:00<00:00, 12.05 Samples/s]\n",
      "Executing Pipeline:   0%|                                                                  | 0/9 [00:00<?, ? Samples/s]"
     ]
    },
    {
     "name": "stdout",
     "output_type": "stream",
     "text": [
      "{'0': 0, '1': 2, '2': 1, '3': 1, '4': 6}\n",
      "3\n",
      "4\n",
      "False\n",
      "Initialised with 1 image(s) found.\n",
      "Output directory set to ./temp\\output."
     ]
    },
    {
     "name": "stderr",
     "output_type": "stream",
     "text": [
      "Processing <PIL.Image.Image image mode=RGB size=1024x683 at 0x23E1ADE8520>: 100%|██| 9/9 [00:00<00:00, 52.33 Samples/s]\n",
      "Processing <PIL.Image.Image image mode=RGB size=1024x683 at 0x23E36059C40>: 100%|█| 1/1 [00:00<00:00, 100.00 Samples/s]\n",
      "Executing Pipeline:   0%|                                                                  | 0/9 [00:00<?, ? Samples/s]"
     ]
    },
    {
     "name": "stdout",
     "output_type": "stream",
     "text": [
      "{'0': 2, '1': 3, '2': 5, '3': 0, '4': 0}\n",
      "1\n",
      "2\n",
      "False\n",
      "Initialised with 1 image(s) found.\n",
      "Output directory set to ./temp\\output."
     ]
    },
    {
     "name": "stderr",
     "output_type": "stream",
     "text": [
      "Processing <PIL.Image.Image image mode=RGB size=1024x683 at 0x23E3589F220>: 100%|██| 9/9 [00:00<00:00, 36.29 Samples/s]\n"
     ]
    },
    {
     "name": "stdout",
     "output_type": "stream",
     "text": [
      "{'0': 10, '1': 0, '2': 0, '3': 0, '4': 0}\n",
      "1\n",
      "0\n",
      "False\n",
      "3 7 %30.0\n"
     ]
    }
   ],
   "source": [
    "predictMultiple()"
   ]
  },
  {
   "cell_type": "code",
   "execution_count": null,
   "id": "19cf2de3",
   "metadata": {},
   "outputs": [],
   "source": []
  }
 ],
 "metadata": {
  "kernelspec": {
   "display_name": "Python 3.9",
   "language": "python",
   "name": "python3"
  },
  "language_info": {
   "codemirror_mode": {
    "name": "ipython",
    "version": 3
   },
   "file_extension": ".py",
   "mimetype": "text/x-python",
   "name": "python",
   "nbconvert_exporter": "python",
   "pygments_lexer": "ipython3",
   "version": "3.9.1"
  }
 },
 "nbformat": 4,
 "nbformat_minor": 5
}
